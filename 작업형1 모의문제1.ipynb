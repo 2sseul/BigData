{
 "cells": [
  {
   "cell_type": "markdown",
   "id": "57fa0739-a7a5-4318-8ced-c2f8d18d75ef",
   "metadata": {},
   "source": [
    "문제1\n",
    "\n",
    "f1컬럼~의 결측치는 중앙 값으로 대체하고\n",
    "나머지 결측치가 있는 데이터(행)을 모두 제거하고,\n",
    "앞에서부터 70% 데이터 중 views 컬럼의 3사분위 수에서 1사분위 수를 뺀 값을 구하시오\n",
    "(단, 데이터 70% 지점은 정수형(int) 변환)"
   ]
  },
  {
   "cell_type": "code",
   "execution_count": 25,
   "id": "8b7d0eaf-35ff-4034-8d6f-cb364d06f763",
   "metadata": {},
   "outputs": [
    {
     "name": "stdout",
     "output_type": "stream",
     "text": [
      "3261.0\n"
     ]
    }
   ],
   "source": [
    "# your code\n",
    "import pandas as pd\n",
    "\n",
    "df = pd.read_csv(\"https://raw.githubusercontent.com/lovedlim/inf/main/p1/members.csv\")\n",
    "\n",
    "# 결측치가 얼마나 있는지 확인\n",
    "# df.isna().sum()\n",
    "\n",
    "df['f1'] = df['f1'].fillna(df['f1'].median())\n",
    "\n",
    "# df.shape\n",
    "df = df.dropna(axis=0)\n",
    "# df.shape\n",
    "\n",
    "df = df[ :int(len(df) * 0.7)]\n",
    "# print(len(df))\n",
    "answer = df['views'].quantile(.75)-df['views'].quantile(.25)\n",
    "print(answer)"
   ]
  },
  {
   "cell_type": "markdown",
   "id": "f7498748-6478-4377-80bc-09caf8e95089",
   "metadata": {},
   "source": [
    "문제2\n",
    "주어진 데이터에서 결측치가 30% 이상인 컬럼을 A, 결측치가 30% 미만, 20% 이상인 컬럼을 B라고 가정하자.\n",
    "A에 해당하는 컬럼은 결측치가 있는 데이터(행)를 삭제하시오.\n",
    "B에 해당하는 컬럼은 결측치를 최빈값으로 대체하시오.\n",
    "'f3'컬럼의 'gold' 값을 가진 데이터 수를 구하시오"
   ]
  },
  {
   "cell_type": "code",
   "execution_count": 41,
   "id": "b0b7036c-95b5-4d57-b39b-e2727003ec59",
   "metadata": {},
   "outputs": [
    {
     "name": "stdout",
     "output_type": "stream",
     "text": [
      "56\n"
     ]
    }
   ],
   "source": [
    "# your code\n",
    "import pandas as pd\n",
    "df = pd.read_csv(\"https://raw.githubusercontent.com/lovedlim/inf/main/p1/members.csv\")\n",
    "\n",
    "#print(df.shape)\n",
    "df = df.dropna(subset=['f1'])\n",
    "#print(df.shape)\n",
    "\n",
    "f3_mode = df['f3'].mode()[0]\n",
    "#print(f3_mode)\n",
    "df['f3'] = df['f3'].fillna(f3_mode)\n",
    "\n",
    "cond = df['f3'] == 'gold'\n",
    "print(len(df[cond]))"
   ]
  },
  {
   "cell_type": "markdown",
   "id": "ff676d7b-6417-4181-be87-98fd7fb4c8bf",
   "metadata": {},
   "source": [
    "문제3\n",
    "views 컬럼에 결측치가 있는 데이터(행)을 삭제하고,\n",
    "f3 컬럼의 결측치는 0, silver는 1, gold는 2, vip는 3 으로 변환한 후 총 합을 정수형으로 출력하시오"
   ]
  },
  {
   "cell_type": "code",
   "execution_count": 49,
   "id": "bb176bcd-3e3b-40ca-aad7-d488a05314f1",
   "metadata": {},
   "outputs": [
    {
     "name": "stdout",
     "output_type": "stream",
     "text": [
      "133\n"
     ]
    }
   ],
   "source": [
    "# your code\n",
    "import pandas as pd\n",
    "df = pd.read_csv(\"https://raw.githubusercontent.com/lovedlim/inf/main/p1/members.csv\")\n",
    "\n",
    "# df.isna().sum()\n",
    "\n",
    "# print(df.shape)\n",
    "df = df.dropna(subset=['views'])\n",
    "# print(df.shape)\n",
    "\n",
    "df['f3'] = df['f3'].fillna(0)\n",
    "df[df['f3'] == 'silver'] = 1\n",
    "df[df['f3'] == 'gold'] = 2\n",
    "df[df['f3'] == 'vip'] = 3\n",
    "\n",
    "print(sum(df['f3']))"
   ]
  },
  {
   "cell_type": "code",
   "execution_count": 50,
   "id": "49335374-49b8-4cf6-bb59-3a02217f4d9d",
   "metadata": {},
   "outputs": [
    {
     "name": "stdout",
     "output_type": "stream",
     "text": [
      "133\n"
     ]
    }
   ],
   "source": [
    "# your code\n",
    "import pandas as pd\n",
    "df = pd.read_csv(\"https://raw.githubusercontent.com/lovedlim/inf/main/p1/members.csv\")\n",
    "\n",
    "# df.isna().sum()\n",
    "\n",
    "# print(df.shape)\n",
    "df = df.dropna(subset=['views'])\n",
    "# print(df.shape)\n",
    "\n",
    "import numpy as np\n",
    "\n",
    "df['f3'] = df['f3'].replace(np.nan, 0).replace('silver',1).replace('gold',2).replace('vip',3)\n",
    "\n",
    "print(sum(df['f3']))"
   ]
  },
  {
   "cell_type": "code",
   "execution_count": 51,
   "id": "47717788-f92b-4d0b-9b79-1b83c4e2f2b8",
   "metadata": {},
   "outputs": [
    {
     "name": "stdout",
     "output_type": "stream",
     "text": [
      "133\n"
     ]
    }
   ],
   "source": [
    "# your code\n",
    "import pandas as pd\n",
    "df = pd.read_csv(\"https://raw.githubusercontent.com/lovedlim/inf/main/p1/members.csv\")\n",
    "\n",
    "# df.isna().sum()\n",
    "\n",
    "# print(df.shape)\n",
    "df = df.dropna(subset=['views'])\n",
    "# print(df.shape)\n",
    "\n",
    "dict_list = {np.nan:0, 'silver':1, 'gold':2, 'vip':3}\n",
    "df['f3'] = df['f3'].map(dict_list)\n",
    "\n",
    "print(sum(df['f3']))"
   ]
  },
  {
   "cell_type": "code",
   "execution_count": null,
   "id": "9b3b0cfa-2102-4884-a48f-ca84087ff962",
   "metadata": {},
   "outputs": [],
   "source": []
  }
 ],
 "metadata": {
  "kernelspec": {
   "display_name": "Python 3 (ipykernel)",
   "language": "python",
   "name": "python3"
  },
  "language_info": {
   "codemirror_mode": {
    "name": "ipython",
    "version": 3
   },
   "file_extension": ".py",
   "mimetype": "text/x-python",
   "name": "python",
   "nbconvert_exporter": "python",
   "pygments_lexer": "ipython3",
   "version": "3.8.19"
  }
 },
 "nbformat": 4,
 "nbformat_minor": 5
}
