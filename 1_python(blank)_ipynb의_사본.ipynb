{
  "nbformat": 4,
  "nbformat_minor": 0,
  "metadata": {
    "colab": {
      "provenance": [],
      "toc_visible": true,
      "include_colab_link": true
    },
    "kernelspec": {
      "name": "python3",
      "display_name": "Python 3"
    },
    "language_info": {
      "name": "python"
    }
  },
  "cells": [
    {
      "cell_type": "markdown",
      "metadata": {
        "id": "view-in-github",
        "colab_type": "text"
      },
      "source": [
        "<a href=\"https://colab.research.google.com/github/2sseul/BigData/blob/master/1_python(blank)_ipynb%EC%9D%98_%EC%82%AC%EB%B3%B8.ipynb\" target=\"_parent\"><img src=\"https://colab.research.google.com/assets/colab-badge.svg\" alt=\"Open In Colab\"/></a>"
      ]
    },
    {
      "cell_type": "markdown",
      "metadata": {
        "id": "k2ulWwXXlIl8"
      },
      "source": [
        "# 파이썬(python)\n",
        "- 노트북 링크: bit.ly/3Fm2u3Q (Drive로 복사)\n",
        "- 실행: 실행 아이콘 또는 Shift + Enter"
      ]
    },
    {
      "cell_type": "markdown",
      "metadata": {
        "id": "bVEmheaVsfb-"
      },
      "source": [
        "# 데이터 분석을 위한 파이썬 기초1"
      ]
    },
    {
      "cell_type": "markdown",
      "metadata": {
        "id": "s8BrOHmkQtse"
      },
      "source": [
        "- 직접 타이핑 하면서 학습\n",
        "- 본인 속도에 맞게 동영상 속도 조절"
      ]
    },
    {
      "cell_type": "markdown",
      "metadata": {
        "id": "ZZo_KUGc2vcb"
      },
      "source": [
        "## 출력\n",
        "- print괄호 안에 숫자 또는 문자 (단 문자일 경우 ' 또는 \" 활용)"
      ]
    },
    {
      "cell_type": "code",
      "metadata": {
        "id": "LaqOXQChbEHz",
        "colab": {
          "base_uri": "https://localhost:8080/"
        },
        "outputId": "3072300c-07ca-45e2-f579-8a1da5467908"
      },
      "source": [
        "# 숫자\n",
        "5"
      ],
      "execution_count": null,
      "outputs": [
        {
          "output_type": "execute_result",
          "data": {
            "text/plain": [
              "5"
            ]
          },
          "metadata": {},
          "execution_count": 1
        }
      ]
    },
    {
      "cell_type": "code",
      "metadata": {
        "id": "ws_KrsY5215g",
        "colab": {
          "base_uri": "https://localhost:8080/",
          "height": 36
        },
        "outputId": "58050c7b-4c19-4102-a0b4-0624404fa909"
      },
      "source": [
        "# 문자 (큰따옴표)\n",
        "\"MONEY\""
      ],
      "execution_count": null,
      "outputs": [
        {
          "output_type": "execute_result",
          "data": {
            "text/plain": [
              "'MONEY'"
            ],
            "application/vnd.google.colaboratory.intrinsic+json": {
              "type": "string"
            }
          },
          "metadata": {},
          "execution_count": 2
        }
      ]
    },
    {
      "cell_type": "code",
      "metadata": {
        "id": "I72rwMzUl0ru",
        "colab": {
          "base_uri": "https://localhost:8080/",
          "height": 36
        },
        "outputId": "d81b8b19-1222-40d0-b318-c544030006c5"
      },
      "source": [
        "# 문자 (작은따옴표)\n",
        "'파이썬'"
      ],
      "execution_count": null,
      "outputs": [
        {
          "output_type": "execute_result",
          "data": {
            "text/plain": [
              "'파이썬'"
            ],
            "application/vnd.google.colaboratory.intrinsic+json": {
              "type": "string"
            }
          },
          "metadata": {},
          "execution_count": 3
        }
      ]
    },
    {
      "cell_type": "markdown",
      "metadata": {
        "id": "Q7nGnhavkTta"
      },
      "source": [
        "## 주석\n",
        "- #을 앞에 사용하면 #뒤에 줄(내용)은 무시함"
      ]
    },
    {
      "cell_type": "code",
      "metadata": {
        "id": "azuDs-2YkTGj"
      },
      "source": [
        "# 주석입니다.\n",
        "# 주석입니다"
      ],
      "execution_count": null,
      "outputs": []
    },
    {
      "cell_type": "markdown",
      "metadata": {
        "id": "qpEqrNy3k0WZ"
      },
      "source": [
        "- 한 줄만 주석 처리(해제) : Ctrl + / (맥 Command + /)\n",
        "- 여러 줄 주석 처리(해제) : 블록지정 후 Ctrl + / (맥 Command + /)"
      ]
    },
    {
      "cell_type": "markdown",
      "metadata": {
        "id": "rPXrOqw23eYk"
      },
      "source": [
        "## 산술연산자\n",
        "- +, -, *, /\n",
        "- //, %, **"
      ]
    },
    {
      "cell_type": "code",
      "metadata": {
        "id": "kL1pwn9g3gSM",
        "colab": {
          "base_uri": "https://localhost:8080/"
        },
        "outputId": "a4313534-ed06-433d-e179-9dd06dcd0459"
      },
      "source": [
        "# 정수 + 정수\n",
        "5 + 5"
      ],
      "execution_count": null,
      "outputs": [
        {
          "output_type": "execute_result",
          "data": {
            "text/plain": [
              "10"
            ]
          },
          "metadata": {},
          "execution_count": 5
        }
      ]
    },
    {
      "cell_type": "code",
      "metadata": {
        "id": "o9T6KKrC3gVj",
        "colab": {
          "base_uri": "https://localhost:8080/"
        },
        "outputId": "6e3de763-6602-43c7-beeb-69fd746e8397"
      },
      "source": [
        "# 실수 + 정수\n",
        "10.0 + 5"
      ],
      "execution_count": null,
      "outputs": [
        {
          "output_type": "execute_result",
          "data": {
            "text/plain": [
              "15.0"
            ]
          },
          "metadata": {},
          "execution_count": 6
        }
      ]
    },
    {
      "cell_type": "code",
      "metadata": {
        "id": "QSZeZ8D-3gZQ",
        "colab": {
          "base_uri": "https://localhost:8080/",
          "height": 36
        },
        "outputId": "62c2f215-20d9-463a-a3e1-6e7f4714a2d0"
      },
      "source": [
        "# 문자열 더하기(합친다)\n",
        "\"나는 \"+\"겁쟁이랍니다\""
      ],
      "execution_count": null,
      "outputs": [
        {
          "output_type": "execute_result",
          "data": {
            "text/plain": [
              "'나는 겁쟁이랍니다'"
            ],
            "application/vnd.google.colaboratory.intrinsic+json": {
              "type": "string"
            }
          },
          "metadata": {},
          "execution_count": 8
        }
      ]
    },
    {
      "cell_type": "code",
      "metadata": {
        "id": "aEqCTZCfs7zB",
        "colab": {
          "base_uri": "https://localhost:8080/"
        },
        "outputId": "bfaff281-2804-4637-be92-d2785328acb6"
      },
      "source": [
        "# 몫\n",
        "4 // 2"
      ],
      "execution_count": null,
      "outputs": [
        {
          "output_type": "execute_result",
          "data": {
            "text/plain": [
              "2"
            ]
          },
          "metadata": {},
          "execution_count": 9
        }
      ]
    },
    {
      "cell_type": "code",
      "metadata": {
        "id": "tLhgikIPs_g5",
        "colab": {
          "base_uri": "https://localhost:8080/"
        },
        "outputId": "7fd0015c-fff5-454c-bbc2-95d89c937f83"
      },
      "source": [
        "# 나머지\n",
        "4 % 3"
      ],
      "execution_count": null,
      "outputs": [
        {
          "output_type": "execute_result",
          "data": {
            "text/plain": [
              "1"
            ]
          },
          "metadata": {},
          "execution_count": 14
        }
      ]
    },
    {
      "cell_type": "code",
      "metadata": {
        "id": "ORtvddjetFxD",
        "colab": {
          "base_uri": "https://localhost:8080/"
        },
        "outputId": "ea5f6655-3d01-4c95-f4a1-814b912e61bf"
      },
      "source": [
        "# 제곱\n",
        "2 ** 2"
      ],
      "execution_count": null,
      "outputs": [
        {
          "output_type": "execute_result",
          "data": {
            "text/plain": [
              "4"
            ]
          },
          "metadata": {},
          "execution_count": 13
        }
      ]
    },
    {
      "cell_type": "markdown",
      "metadata": {
        "id": "MjEH32hddNoh"
      },
      "source": [
        "## 자료형(타입)\n",
        "- 정수형: int\n",
        "- 실수형: float\n",
        "- 문자열: str\n",
        "- 참/거짓: bool"
      ]
    },
    {
      "cell_type": "code",
      "metadata": {
        "id": "Xx1sQev5dOuO",
        "colab": {
          "base_uri": "https://localhost:8080/"
        },
        "outputId": "9e243a1e-58ae-45c2-f926-1135716b9559"
      },
      "source": [
        "# 정수형\n",
        "int(4.5)"
      ],
      "execution_count": null,
      "outputs": [
        {
          "output_type": "execute_result",
          "data": {
            "text/plain": [
              "4"
            ]
          },
          "metadata": {},
          "execution_count": 21
        }
      ]
    },
    {
      "cell_type": "code",
      "metadata": {
        "id": "SBbgexcCdVUH",
        "colab": {
          "base_uri": "https://localhost:8080/"
        },
        "outputId": "2dcd30e3-deef-42b0-b7b9-ae5876ea48a7"
      },
      "source": [
        "# 실수형\n",
        "float(5)"
      ],
      "execution_count": null,
      "outputs": [
        {
          "output_type": "execute_result",
          "data": {
            "text/plain": [
              "5.0"
            ]
          },
          "metadata": {},
          "execution_count": 20
        }
      ]
    },
    {
      "cell_type": "code",
      "metadata": {
        "id": "KdElWU6bdWj6",
        "colab": {
          "base_uri": "https://localhost:8080/",
          "height": 36
        },
        "outputId": "19f6b010-2a6c-48b7-b7ad-47923f2da588"
      },
      "source": [
        "# 문자열\n",
        "str(\"안녕\")"
      ],
      "execution_count": null,
      "outputs": [
        {
          "output_type": "execute_result",
          "data": {
            "text/plain": [
              "'안녕'"
            ],
            "application/vnd.google.colaboratory.intrinsic+json": {
              "type": "string"
            }
          },
          "metadata": {},
          "execution_count": 19
        }
      ]
    },
    {
      "cell_type": "code",
      "metadata": {
        "id": "aM8UgBYSmeEg",
        "colab": {
          "base_uri": "https://localhost:8080/"
        },
        "outputId": "6e9a0ad7-7533-43f0-c9a2-402b56f12031"
      },
      "source": [
        "# 참/거짓\n",
        "bool"
      ],
      "execution_count": null,
      "outputs": [
        {
          "output_type": "execute_result",
          "data": {
            "text/plain": [
              "bool"
            ]
          },
          "metadata": {},
          "execution_count": 23
        }
      ]
    },
    {
      "cell_type": "markdown",
      "metadata": {
        "id": "F6_6KAM-31QN"
      },
      "source": [
        "## 변수"
      ]
    },
    {
      "cell_type": "code",
      "metadata": {
        "id": "6ouKLr5z334V"
      },
      "source": [
        "# box변수 값에 10 대입\n",
        "box = 10"
      ],
      "execution_count": null,
      "outputs": []
    },
    {
      "cell_type": "code",
      "metadata": {
        "id": "hnIbRIsv339m",
        "colab": {
          "base_uri": "https://localhost:8080/"
        },
        "outputId": "9c4c65cc-0e42-4fbd-b39b-77489ee38c05"
      },
      "source": [
        "# box변수 값 출력\n",
        "box"
      ],
      "execution_count": null,
      "outputs": [
        {
          "output_type": "execute_result",
          "data": {
            "text/plain": [
              "10"
            ]
          },
          "metadata": {},
          "execution_count": 25
        }
      ]
    },
    {
      "cell_type": "code",
      "metadata": {
        "id": "lqmZl6Bd34At"
      },
      "source": [
        "# box2변수 값에 20 대입\n",
        "box2 = 20"
      ],
      "execution_count": null,
      "outputs": []
    },
    {
      "cell_type": "code",
      "metadata": {
        "id": "KMUvATVm34Dw",
        "colab": {
          "base_uri": "https://localhost:8080/"
        },
        "outputId": "d9b13d7a-effe-4f5e-d55b-aea4b20672ba"
      },
      "source": [
        "# 변수(10) + 변수(20)\n",
        "box + box2"
      ],
      "execution_count": null,
      "outputs": [
        {
          "output_type": "execute_result",
          "data": {
            "text/plain": [
              "30"
            ]
          },
          "metadata": {},
          "execution_count": 27
        }
      ]
    },
    {
      "cell_type": "code",
      "metadata": {
        "id": "lFcDCOQT5P1A"
      },
      "source": [
        "# 30 = 10 + 20\n",
        "box3 = box + box2"
      ],
      "execution_count": null,
      "outputs": []
    },
    {
      "cell_type": "code",
      "metadata": {
        "id": "UiCS5dfD9o8I"
      },
      "source": [
        "# 20 = 10 + 10\n",
        "box2 = box + box"
      ],
      "execution_count": null,
      "outputs": []
    },
    {
      "cell_type": "markdown",
      "metadata": {
        "id": "PW5uDK2z4uSS"
      },
      "source": [
        "##  형변환"
      ]
    },
    {
      "cell_type": "code",
      "metadata": {
        "id": "egzIOnas4wxd",
        "colab": {
          "base_uri": "https://localhost:8080/",
          "height": 36
        },
        "outputId": "bba94971-0e5a-407d-f19d-beea1b22440b"
      },
      "source": [
        "# str(문자)\n",
        "str(\"안녕하세요\")"
      ],
      "execution_count": null,
      "outputs": [
        {
          "output_type": "execute_result",
          "data": {
            "text/plain": [
              "'안녕하세요'"
            ],
            "application/vnd.google.colaboratory.intrinsic+json": {
              "type": "string"
            }
          },
          "metadata": {},
          "execution_count": 30
        }
      ]
    },
    {
      "cell_type": "code",
      "metadata": {
        "id": "CPIKv_bFp3Yu",
        "colab": {
          "base_uri": "https://localhost:8080/"
        },
        "outputId": "4e143c2a-6898-419f-bd6e-21079d8a49fe"
      },
      "source": [
        "# str -> int(숫자)\n",
        "s = \"123\"\n",
        "int(s)"
      ],
      "execution_count": null,
      "outputs": [
        {
          "output_type": "execute_result",
          "data": {
            "text/plain": [
              "123"
            ]
          },
          "metadata": {},
          "execution_count": 31
        }
      ]
    },
    {
      "cell_type": "code",
      "metadata": {
        "id": "n17X9ikmqDn7",
        "colab": {
          "base_uri": "https://localhost:8080/"
        },
        "outputId": "f1937eb4-d130-44db-db6a-905b85b4784c"
      },
      "source": [
        "# type(str(box))\n",
        "type(str(box))"
      ],
      "execution_count": null,
      "outputs": [
        {
          "output_type": "execute_result",
          "data": {
            "text/plain": [
              "str"
            ]
          },
          "metadata": {},
          "execution_count": 32
        }
      ]
    },
    {
      "cell_type": "markdown",
      "metadata": {
        "id": "_zM17gMJ5t5p"
      },
      "source": [
        "## 비교연산자"
      ]
    },
    {
      "cell_type": "code",
      "metadata": {
        "id": "fE2S36lStvaa",
        "colab": {
          "base_uri": "https://localhost:8080/"
        },
        "outputId": "b2a1846d-3f21-4189-ffb7-c2f996d0e96a"
      },
      "source": [
        "# 크다(참)\n",
        "5 > 3"
      ],
      "execution_count": null,
      "outputs": [
        {
          "output_type": "execute_result",
          "data": {
            "text/plain": [
              "True"
            ]
          },
          "metadata": {},
          "execution_count": 33
        }
      ]
    },
    {
      "cell_type": "code",
      "metadata": {
        "id": "tD-UPP7D5GYL",
        "colab": {
          "base_uri": "https://localhost:8080/"
        },
        "outputId": "bbb61f15-6e53-4092-d05f-1f94a4f3af3c"
      },
      "source": [
        "# 작다\n",
        "3 < 6"
      ],
      "execution_count": null,
      "outputs": [
        {
          "output_type": "execute_result",
          "data": {
            "text/plain": [
              "True"
            ]
          },
          "metadata": {},
          "execution_count": 34
        }
      ]
    },
    {
      "cell_type": "code",
      "metadata": {
        "id": "rfrS5wNA5jig",
        "colab": {
          "base_uri": "https://localhost:8080/"
        },
        "outputId": "3dbd4953-88b4-48d6-95b7-d28bf05b3b08"
      },
      "source": [
        "# 같거나 크다\n",
        "3 >= 1"
      ],
      "execution_count": null,
      "outputs": [
        {
          "output_type": "execute_result",
          "data": {
            "text/plain": [
              "True"
            ]
          },
          "metadata": {},
          "execution_count": 35
        }
      ]
    },
    {
      "cell_type": "code",
      "metadata": {
        "id": "lIUab7Mq5Ghf",
        "colab": {
          "base_uri": "https://localhost:8080/"
        },
        "outputId": "6de10012-6461-4707-9927-38fb45c3411c"
      },
      "source": [
        "# 같다\n",
        "3 == 3"
      ],
      "execution_count": null,
      "outputs": [
        {
          "output_type": "execute_result",
          "data": {
            "text/plain": [
              "True"
            ]
          },
          "metadata": {},
          "execution_count": 36
        }
      ]
    },
    {
      "cell_type": "code",
      "metadata": {
        "id": "_6kQowYCguce",
        "colab": {
          "base_uri": "https://localhost:8080/"
        },
        "outputId": "61b39276-1ef8-495d-df24-15630d10d91e"
      },
      "source": [
        "# 같지 않다\n",
        "3 != 2"
      ],
      "execution_count": null,
      "outputs": [
        {
          "output_type": "execute_result",
          "data": {
            "text/plain": [
              "True"
            ]
          },
          "metadata": {},
          "execution_count": 37
        }
      ]
    },
    {
      "cell_type": "code",
      "metadata": {
        "id": "Ih3z-dslAF1Z",
        "colab": {
          "base_uri": "https://localhost:8080/"
        },
        "outputId": "3498f170-390a-450b-dd87-356e40a66d75"
      },
      "source": [
        "# 같다\n",
        "# a = 10\n",
        "# b = 10\n",
        "a = 10\n",
        "b = 10\n",
        "a == b"
      ],
      "execution_count": null,
      "outputs": [
        {
          "output_type": "execute_result",
          "data": {
            "text/plain": [
              "True"
            ]
          },
          "metadata": {},
          "execution_count": 38
        }
      ]
    },
    {
      "cell_type": "code",
      "metadata": {
        "id": "jUrfhIkmAF-K",
        "colab": {
          "base_uri": "https://localhost:8080/"
        },
        "outputId": "c46bda9b-31a2-4168-f2cf-c4a4fbcd643e"
      },
      "source": [
        "# 같거나 크다\n",
        "10 >= 4"
      ],
      "execution_count": null,
      "outputs": [
        {
          "output_type": "execute_result",
          "data": {
            "text/plain": [
              "True"
            ]
          },
          "metadata": {},
          "execution_count": 39
        }
      ]
    },
    {
      "cell_type": "code",
      "metadata": {
        "id": "9g11nbHVAGGx",
        "colab": {
          "base_uri": "https://localhost:8080/"
        },
        "outputId": "1e35bfc3-c91c-42cf-9654-24c78d142170"
      },
      "source": [
        "# False\n",
        "False"
      ],
      "execution_count": null,
      "outputs": [
        {
          "output_type": "execute_result",
          "data": {
            "text/plain": [
              "False"
            ]
          },
          "metadata": {},
          "execution_count": 40
        }
      ]
    },
    {
      "cell_type": "code",
      "metadata": {
        "id": "3vb1GxkZUJDk",
        "colab": {
          "base_uri": "https://localhost:8080/"
        },
        "outputId": "96aa09a4-1fe9-4acf-c22e-9d1015c98f55"
      },
      "source": [
        "# c = \"빅데이터\"\n",
        "# d = \"빅데이터\"\n",
        "# e = \"데이터\"\n",
        "c = \"빅데이터\"\n",
        "d = \"빅데이터\"\n",
        "e = \"데이터\"\n",
        "\n",
        "c == d\n",
        "d != e"
      ],
      "execution_count": null,
      "outputs": [
        {
          "output_type": "execute_result",
          "data": {
            "text/plain": [
              "True"
            ]
          },
          "metadata": {},
          "execution_count": 41
        }
      ]
    },
    {
      "cell_type": "markdown",
      "metadata": {
        "id": "pz4G7EFCT3ow"
      },
      "source": [
        "## 조건문"
      ]
    },
    {
      "cell_type": "markdown",
      "metadata": {
        "id": "LQzrn00LhzhK"
      },
      "source": [
        "- 들여쓰기: tab\n",
        "- 내어쓰기: shift + tab"
      ]
    },
    {
      "cell_type": "code",
      "metadata": {
        "id": "MeetgWilCY_K",
        "colab": {
          "base_uri": "https://localhost:8080/"
        },
        "outputId": "51896e69-b7bb-474b-edc1-71dcecd0d468"
      },
      "source": [
        "# True 조건\n",
        "if 5 > 3:\n",
        "    print(\"참\")"
      ],
      "execution_count": null,
      "outputs": [
        {
          "output_type": "stream",
          "name": "stdout",
          "text": [
            "참\n"
          ]
        }
      ]
    },
    {
      "cell_type": "code",
      "metadata": {
        "id": "G2APl1mxDlJ_"
      },
      "source": [
        "# False 조건\n",
        "if 5 < 3:\n",
        "    print(\"거짓\")"
      ],
      "execution_count": null,
      "outputs": []
    },
    {
      "cell_type": "code",
      "metadata": {
        "id": "kIu_ng9Kr_Z4"
      },
      "source": [
        "# box = 10\n"
      ],
      "execution_count": null,
      "outputs": []
    },
    {
      "cell_type": "code",
      "metadata": {
        "id": "4T30Y4NN5uD6"
      },
      "source": [
        "# box = 1\n"
      ],
      "execution_count": null,
      "outputs": []
    },
    {
      "cell_type": "code",
      "metadata": {
        "id": "ivMOAhUe5uKF"
      },
      "source": [
        "# box = 5\n"
      ],
      "execution_count": null,
      "outputs": []
    },
    {
      "cell_type": "code",
      "metadata": {
        "id": "WtZ_KIo5LHs1"
      },
      "source": [
        "# box = 2\n"
      ],
      "execution_count": null,
      "outputs": []
    },
    {
      "cell_type": "code",
      "metadata": {
        "id": "XHZWWFTT5uNO"
      },
      "source": [
        "# box = 2\n"
      ],
      "execution_count": null,
      "outputs": []
    },
    {
      "cell_type": "markdown",
      "metadata": {
        "id": "p8g4MHmalw_S"
      },
      "source": [
        "# 데이터 분석을 위한 파이썬 기초2"
      ]
    },
    {
      "cell_type": "markdown",
      "metadata": {
        "id": "sn96Y4ue8eIh"
      },
      "source": [
        "## 리스트"
      ]
    },
    {
      "cell_type": "code",
      "metadata": {
        "id": "O_XKnj1DfKac"
      },
      "source": [
        "# 여러개의 값을 담을 때 여러개의 변수 사용?\n",
        "list = [1, 2, 3, 4, 5]"
      ],
      "execution_count": null,
      "outputs": []
    },
    {
      "cell_type": "code",
      "metadata": {
        "id": "VZhB5Wyj5uQ9",
        "colab": {
          "base_uri": "https://localhost:8080/"
        },
        "outputId": "040fe13a-a92c-44c2-aa52-f3cd5203704a"
      },
      "source": [
        "# 리스트 변수\n",
        "list"
      ],
      "execution_count": null,
      "outputs": [
        {
          "output_type": "execute_result",
          "data": {
            "text/plain": [
              "[1, 2, 3, 4, 5]"
            ]
          },
          "metadata": {},
          "execution_count": 46
        }
      ]
    },
    {
      "cell_type": "code",
      "metadata": {
        "id": "yv3-b_gwOwjW",
        "colab": {
          "base_uri": "https://localhost:8080/"
        },
        "outputId": "898dc8e0-59ce-4025-f3e0-a29dc9c0a2b9"
      },
      "source": [
        "# type\n",
        "type[list]"
      ],
      "execution_count": null,
      "outputs": [
        {
          "output_type": "execute_result",
          "data": {
            "text/plain": [
              "type[[1, 2, 3, 4, 5]]"
            ]
          },
          "metadata": {},
          "execution_count": 47
        }
      ]
    },
    {
      "cell_type": "code",
      "metadata": {
        "id": "C6aj7SJl5uTh"
      },
      "source": [
        "# 문자열\n",
        "list2 = [\"안녕\", \"하세요\", \"방가\"]"
      ],
      "execution_count": null,
      "outputs": []
    },
    {
      "cell_type": "code",
      "metadata": {
        "id": "ZZ3IhUFf-4wv"
      },
      "source": [
        "# 추가\n",
        "list2.append(\"ㅎㅎ\")"
      ],
      "execution_count": null,
      "outputs": []
    },
    {
      "cell_type": "code",
      "metadata": {
        "id": "ZculDc6Td-_0",
        "colab": {
          "base_uri": "https://localhost:8080/"
        },
        "outputId": "21196f10-689d-43e7-9b19-e25b2de2a110"
      },
      "source": [
        "# 정렬\n",
        "list2.sort()\n",
        "list.sort()\n",
        "list2\n",
        "list"
      ],
      "execution_count": null,
      "outputs": [
        {
          "output_type": "execute_result",
          "data": {
            "text/plain": [
              "[1, 2, 3, 4, 5]"
            ]
          },
          "metadata": {},
          "execution_count": 53
        }
      ]
    },
    {
      "cell_type": "markdown",
      "metadata": {
        "id": "sMaNulq9AeuE"
      },
      "source": [
        "## 딕셔너리(Dictionary)"
      ]
    },
    {
      "cell_type": "code",
      "metadata": {
        "id": "lzuN0U8IAg_A"
      },
      "source": [
        "# 딕셔너리\n",
        "dict = {\"name\":\"홍길동\", \"age\":5}"
      ],
      "execution_count": null,
      "outputs": []
    },
    {
      "cell_type": "code",
      "metadata": {
        "id": "W48Flt_fPzPl",
        "colab": {
          "base_uri": "https://localhost:8080/"
        },
        "outputId": "a2bb91b0-6eb8-4f72-ec78-6387adb47864"
      },
      "source": [
        "# type\n",
        "type(dict)"
      ],
      "execution_count": null,
      "outputs": [
        {
          "output_type": "execute_result",
          "data": {
            "text/plain": [
              "dict"
            ]
          },
          "metadata": {},
          "execution_count": 58
        }
      ]
    },
    {
      "cell_type": "code",
      "metadata": {
        "id": "0GHQkolTAhBz",
        "colab": {
          "base_uri": "https://localhost:8080/"
        },
        "outputId": "f79899ac-6572-47b2-977e-883e84838810"
      },
      "source": [
        "# 키(key)로 값 출력하기\n",
        "dict.keys()"
      ],
      "execution_count": null,
      "outputs": [
        {
          "output_type": "execute_result",
          "data": {
            "text/plain": [
              "dict_keys(['name', 'age'])"
            ]
          },
          "metadata": {},
          "execution_count": 59
        }
      ]
    },
    {
      "cell_type": "code",
      "metadata": {
        "id": "K2aPJAQEzqoW",
        "colab": {
          "base_uri": "https://localhost:8080/"
        },
        "outputId": "2c6e2836-0e8c-46df-acc8-d911d9b383d7"
      },
      "source": [
        "# 값 변경하기\n",
        "dict[\"name\"] = \"김갑수\"\n",
        "dict"
      ],
      "execution_count": null,
      "outputs": [
        {
          "output_type": "execute_result",
          "data": {
            "text/plain": [
              "{'name': '김갑수', 'age': 5}"
            ]
          },
          "metadata": {},
          "execution_count": 63
        }
      ]
    },
    {
      "cell_type": "code",
      "metadata": {
        "id": "o0WZq19xzyyk",
        "colab": {
          "base_uri": "https://localhost:8080/"
        },
        "outputId": "6297fa6b-7f14-4d1d-8098-1452e731be4c"
      },
      "source": [
        "# 키 값\n",
        "dict.keys()"
      ],
      "execution_count": null,
      "outputs": [
        {
          "output_type": "execute_result",
          "data": {
            "text/plain": [
              "dict_keys(['name', 'age'])"
            ]
          },
          "metadata": {},
          "execution_count": 65
        }
      ]
    },
    {
      "cell_type": "code",
      "metadata": {
        "id": "Fo8xrNgmz4kX",
        "colab": {
          "base_uri": "https://localhost:8080/"
        },
        "outputId": "8bf33bbb-3555-41a9-892a-227d177d3fb9"
      },
      "source": [
        "# 밸류 값\n",
        "dict.values()"
      ],
      "execution_count": null,
      "outputs": [
        {
          "output_type": "execute_result",
          "data": {
            "text/plain": [
              "dict_values(['김갑수', 5])"
            ]
          },
          "metadata": {},
          "execution_count": 66
        }
      ]
    },
    {
      "cell_type": "markdown",
      "metadata": {
        "id": "tHba7NxMsY-r"
      },
      "source": [
        "## 인덱싱과 슬라이싱"
      ]
    },
    {
      "cell_type": "code",
      "metadata": {
        "id": "X3jgCz-KXAHt"
      },
      "source": [
        "# listbox = [2,4,6,8,10]\n",
        "listbox = [2, 4, 6, 8, 10]"
      ],
      "execution_count": null,
      "outputs": []
    },
    {
      "cell_type": "code",
      "metadata": {
        "id": "lmi4cQp-memb",
        "colab": {
          "base_uri": "https://localhost:8080/"
        },
        "outputId": "cf646069-fd18-4386-d931-0c40fd107446"
      },
      "source": [
        "# index 마지막 값\n",
        "listbox[-1]"
      ],
      "execution_count": null,
      "outputs": [
        {
          "output_type": "execute_result",
          "data": {
            "text/plain": [
              "10"
            ]
          },
          "metadata": {},
          "execution_count": 69
        }
      ]
    },
    {
      "cell_type": "code",
      "metadata": {
        "id": "wrjMxzGosXZ-",
        "colab": {
          "base_uri": "https://localhost:8080/"
        },
        "outputId": "b4deb1ec-5404-47b6-f58b-6f32de947e39"
      },
      "source": [
        "# list[start:stop]\n",
        "listbox[2:4]"
      ],
      "execution_count": null,
      "outputs": [
        {
          "output_type": "execute_result",
          "data": {
            "text/plain": [
              "[6, 8]"
            ]
          },
          "metadata": {},
          "execution_count": 71
        }
      ]
    },
    {
      "cell_type": "code",
      "metadata": {
        "id": "GFY0NdKSW5A-",
        "colab": {
          "base_uri": "https://localhost:8080/"
        },
        "outputId": "a1e0f51d-4546-4075-ef04-5a6932603d80"
      },
      "source": [
        "# index 3부터 끝까지\n",
        "listbox[3:]"
      ],
      "execution_count": null,
      "outputs": [
        {
          "output_type": "execute_result",
          "data": {
            "text/plain": [
              "[8, 10]"
            ]
          },
          "metadata": {},
          "execution_count": 72
        }
      ]
    },
    {
      "cell_type": "code",
      "metadata": {
        "id": "-fnC4D-HW5E2",
        "colab": {
          "base_uri": "https://localhost:8080/"
        },
        "outputId": "54d20b8e-df71-47e7-be9e-91219765cb39"
      },
      "source": [
        "# index 1부터 2까지\n",
        "listbox[1:3]"
      ],
      "execution_count": null,
      "outputs": [
        {
          "output_type": "execute_result",
          "data": {
            "text/plain": [
              "[4, 6]"
            ]
          },
          "metadata": {},
          "execution_count": 74
        }
      ]
    },
    {
      "cell_type": "code",
      "metadata": {
        "id": "3l7vc-WEmEjL",
        "colab": {
          "base_uri": "https://localhost:8080/"
        },
        "outputId": "4d151563-0e6e-4d89-f98b-3f7c1a0f110c"
      },
      "source": [
        "# list[start:stop:step]\n",
        "listbox[0:5:2]"
      ],
      "execution_count": null,
      "outputs": [
        {
          "output_type": "execute_result",
          "data": {
            "text/plain": [
              "[2, 6, 10]"
            ]
          },
          "metadata": {},
          "execution_count": 77
        }
      ]
    },
    {
      "cell_type": "markdown",
      "metadata": {
        "id": "88qGNAwFU36g"
      },
      "source": [
        "## 내장 함수"
      ]
    },
    {
      "cell_type": "code",
      "metadata": {
        "id": "r4mkP9Q0VWay",
        "colab": {
          "base_uri": "https://localhost:8080/"
        },
        "outputId": "70c399a6-b494-49d9-82a5-d1fcce61339b"
      },
      "source": [
        "# 합계\n",
        "listbox = [1,2,3,4,5]\n",
        "sum(listbox)"
      ],
      "execution_count": null,
      "outputs": [
        {
          "output_type": "execute_result",
          "data": {
            "text/plain": [
              "15"
            ]
          },
          "metadata": {},
          "execution_count": 83
        }
      ]
    },
    {
      "cell_type": "code",
      "metadata": {
        "id": "KesjV3w0U774",
        "colab": {
          "base_uri": "https://localhost:8080/"
        },
        "outputId": "e08adc95-f4ce-46b8-c6b4-603f08522b51"
      },
      "source": [
        "# 최대값\n",
        "max(listbox)"
      ],
      "execution_count": null,
      "outputs": [
        {
          "output_type": "execute_result",
          "data": {
            "text/plain": [
              "5"
            ]
          },
          "metadata": {},
          "execution_count": 84
        }
      ]
    },
    {
      "cell_type": "code",
      "metadata": {
        "id": "qlxoqmVrVmIi",
        "colab": {
          "base_uri": "https://localhost:8080/"
        },
        "outputId": "862f1470-cdd0-45e4-da8c-ea4ad4fbd3b4"
      },
      "source": [
        "# 최소값\n",
        "min(listbox)"
      ],
      "execution_count": null,
      "outputs": [
        {
          "output_type": "execute_result",
          "data": {
            "text/plain": [
              "1"
            ]
          },
          "metadata": {},
          "execution_count": 85
        }
      ]
    },
    {
      "cell_type": "code",
      "metadata": {
        "id": "nWOmvtLrVjvN",
        "colab": {
          "base_uri": "https://localhost:8080/"
        },
        "outputId": "46b47aa3-ad1d-4ebc-eada-f6d71d1ddbd6"
      },
      "source": [
        "# 길이(갯수)\n",
        "len(listbox)"
      ],
      "execution_count": null,
      "outputs": [
        {
          "output_type": "execute_result",
          "data": {
            "text/plain": [
              "5"
            ]
          },
          "metadata": {},
          "execution_count": 86
        }
      ]
    },
    {
      "cell_type": "code",
      "metadata": {
        "id": "UfHaZY7Y1Cf8",
        "colab": {
          "base_uri": "https://localhost:8080/"
        },
        "outputId": "92a2e4ed-8359-4ae4-ccc3-25f115139b35"
      },
      "source": [
        "# 반올림\n",
        "round(1.234, 2)"
      ],
      "execution_count": null,
      "outputs": [
        {
          "output_type": "execute_result",
          "data": {
            "text/plain": [
              "1.23"
            ]
          },
          "metadata": {},
          "execution_count": 87
        }
      ]
    },
    {
      "cell_type": "markdown",
      "metadata": {
        "id": "60a8CfviXNzB"
      },
      "source": [
        "## 문자열"
      ]
    },
    {
      "cell_type": "markdown",
      "metadata": {
        "id": "GC88pkXCVtXW"
      },
      "source": [
        "### 문자열 변경"
      ]
    },
    {
      "cell_type": "code",
      "metadata": {
        "id": "4v6OZg0beGNn",
        "colab": {
          "base_uri": "https://localhost:8080/",
          "height": 36
        },
        "outputId": "68780932-b105-4ec2-bda2-a5c5d8dfc840"
      },
      "source": [
        "# 한 단어 변경\n",
        "text = \"빅데이터 분석기사 파이썬 공부\"\n",
        "text.replace(\"공부\", \"공부라니\")"
      ],
      "execution_count": null,
      "outputs": [
        {
          "output_type": "execute_result",
          "data": {
            "text/plain": [
              "'빅데이터 분석기사 파이썬 공부라니'"
            ],
            "application/vnd.google.colaboratory.intrinsic+json": {
              "type": "string"
            }
          },
          "metadata": {},
          "execution_count": 89
        }
      ]
    },
    {
      "cell_type": "code",
      "metadata": {
        "id": "TWaRdm59euuw",
        "colab": {
          "base_uri": "https://localhost:8080/",
          "height": 36
        },
        "outputId": "17a94b9c-4b08-4d8d-898c-0565ff3b8636"
      },
      "source": [
        "# 여러 단어 변경\n",
        "text = \"빅데이터 분석기사 파이썬 공부\"\n",
        "text.replace(\"공부\", \"공부라니\").replace(\"파이썬\", \"자바?\")"
      ],
      "execution_count": null,
      "outputs": [
        {
          "output_type": "execute_result",
          "data": {
            "text/plain": [
              "'빅데이터 분석기사 자바? 공부라니'"
            ],
            "application/vnd.google.colaboratory.intrinsic+json": {
              "type": "string"
            }
          },
          "metadata": {},
          "execution_count": 90
        }
      ]
    },
    {
      "cell_type": "markdown",
      "metadata": {
        "id": "tJ4TMr1Zr3uk"
      },
      "source": [
        "### 문자열 슬라이싱"
      ]
    },
    {
      "cell_type": "code",
      "metadata": {
        "id": "i8nqO6HRr6Rp"
      },
      "source": [
        "text = \"안녕하세요 퇴근후딴짓입니다.\""
      ],
      "execution_count": null,
      "outputs": []
    },
    {
      "cell_type": "code",
      "metadata": {
        "id": "dNByNy7br6VV",
        "colab": {
          "base_uri": "https://localhost:8080/",
          "height": 36
        },
        "outputId": "f0cc97c9-7ada-4390-9cab-05060a80a29a"
      },
      "source": [
        "# 문자열 슬라이싱\n",
        "text[:2]"
      ],
      "execution_count": null,
      "outputs": [
        {
          "output_type": "execute_result",
          "data": {
            "text/plain": [
              "'빅데'"
            ],
            "application/vnd.google.colaboratory.intrinsic+json": {
              "type": "string"
            }
          },
          "metadata": {},
          "execution_count": 91
        }
      ]
    },
    {
      "cell_type": "code",
      "metadata": {
        "id": "-Gn-Q-m2sOG7",
        "colab": {
          "base_uri": "https://localhost:8080/",
          "height": 36
        },
        "outputId": "8f7b6c3a-0eab-448d-b5cd-e347b1ca73aa"
      },
      "source": [
        "# 월-일\n",
        "date = \"2022-12-25\"\n",
        "date[5:]"
      ],
      "execution_count": null,
      "outputs": [
        {
          "output_type": "execute_result",
          "data": {
            "text/plain": [
              "'12-25'"
            ],
            "application/vnd.google.colaboratory.intrinsic+json": {
              "type": "string"
            }
          },
          "metadata": {},
          "execution_count": 92
        }
      ]
    },
    {
      "cell_type": "markdown",
      "metadata": {
        "id": "O1QnE6ZaliuP"
      },
      "source": [
        "## 슬라이싱 연습"
      ]
    },
    {
      "cell_type": "code",
      "metadata": {
        "id": "XfmS7lTjsY-H",
        "colab": {
          "base_uri": "https://localhost:8080/",
          "height": 36
        },
        "outputId": "f510f181-8ca3-4d16-ff2d-b8c3ea6d4282"
      },
      "source": [
        "# 월만 출력\n",
        "date = \"2022-12-25\"\n",
        "date[5:7]"
      ],
      "execution_count": null,
      "outputs": [
        {
          "output_type": "execute_result",
          "data": {
            "text/plain": [
              "'12'"
            ],
            "application/vnd.google.colaboratory.intrinsic+json": {
              "type": "string"
            }
          },
          "metadata": {},
          "execution_count": 93
        }
      ]
    },
    {
      "cell_type": "code",
      "metadata": {
        "id": "veDH5XwYixWa",
        "colab": {
          "base_uri": "https://localhost:8080/"
        },
        "outputId": "14b3f939-5387-4e4a-868c-c831ddf7ee12"
      },
      "source": [
        "listbox = [\"감사\", \"행복\", \"사랑\", \"습관\", \"긍정\", \"변화\", \"성장\", \"공감\", \"희망\"]\n",
        "listbox"
      ],
      "execution_count": null,
      "outputs": [
        {
          "output_type": "execute_result",
          "data": {
            "text/plain": [
              "['감사', '행복', '사랑', '습관', '긍정', '변화', '성장', '공감', '희망']"
            ]
          },
          "metadata": {},
          "execution_count": 94
        }
      ]
    },
    {
      "cell_type": "code",
      "metadata": {
        "id": "rfSu6rBmyLy2",
        "colab": {
          "base_uri": "https://localhost:8080/"
        },
        "outputId": "8e47caa6-2626-4b24-b90e-08cbf3e130ad"
      },
      "source": [
        "# 갯 수\n",
        "len(listbox)"
      ],
      "execution_count": null,
      "outputs": [
        {
          "output_type": "execute_result",
          "data": {
            "text/plain": [
              "9"
            ]
          },
          "metadata": {},
          "execution_count": 95
        }
      ]
    },
    {
      "cell_type": "code",
      "metadata": {
        "id": "MnDYQUT9yL34",
        "colab": {
          "base_uri": "https://localhost:8080/",
          "height": 36
        },
        "outputId": "4de15c4d-d94c-4fd2-f8e4-51592cedc441"
      },
      "source": [
        "# 첫번째 값\n",
        "listbox[0]"
      ],
      "execution_count": null,
      "outputs": [
        {
          "output_type": "execute_result",
          "data": {
            "text/plain": [
              "'감사'"
            ],
            "application/vnd.google.colaboratory.intrinsic+json": {
              "type": "string"
            }
          },
          "metadata": {},
          "execution_count": 96
        }
      ]
    },
    {
      "cell_type": "code",
      "metadata": {
        "id": "5rLvXDMRyL7P",
        "colab": {
          "base_uri": "https://localhost:8080/",
          "height": 36
        },
        "outputId": "83d53b35-8792-40d8-ebba-ff04131e0833"
      },
      "source": [
        "# 마지막 값\n",
        "listbox[-1]"
      ],
      "execution_count": null,
      "outputs": [
        {
          "output_type": "execute_result",
          "data": {
            "text/plain": [
              "'희망'"
            ],
            "application/vnd.google.colaboratory.intrinsic+json": {
              "type": "string"
            }
          },
          "metadata": {},
          "execution_count": 97
        }
      ]
    },
    {
      "cell_type": "code",
      "metadata": {
        "id": "rHQxUcJ5yL-H",
        "colab": {
          "base_uri": "https://localhost:8080/"
        },
        "outputId": "cd707c38-9182-400d-f22d-dd2b369cafef"
      },
      "source": [
        "# 처음부터 세번째 값까지\n",
        "listbox[:3]"
      ],
      "execution_count": null,
      "outputs": [
        {
          "output_type": "execute_result",
          "data": {
            "text/plain": [
              "['감사', '행복', '사랑']"
            ]
          },
          "metadata": {},
          "execution_count": 102
        }
      ]
    },
    {
      "cell_type": "code",
      "metadata": {
        "id": "BagzzxLTyMAv",
        "colab": {
          "base_uri": "https://localhost:8080/",
          "height": 36
        },
        "outputId": "4cd2512a-83c2-47cf-ee1c-5777cf593ada"
      },
      "source": [
        "# 마지막 앞 단어\n",
        "listbox[-2]"
      ],
      "execution_count": null,
      "outputs": [
        {
          "output_type": "execute_result",
          "data": {
            "text/plain": [
              "'공감'"
            ],
            "application/vnd.google.colaboratory.intrinsic+json": {
              "type": "string"
            }
          },
          "metadata": {},
          "execution_count": 100
        }
      ]
    },
    {
      "cell_type": "code",
      "metadata": {
        "id": "mvN74XUIyMDq",
        "colab": {
          "base_uri": "https://localhost:8080/"
        },
        "outputId": "c858ab1f-b9e4-4dcf-f9e5-a7b0b34e2ee3"
      },
      "source": [
        "# 행복과 사랑만 출력\n",
        "listbox[1:3]"
      ],
      "execution_count": null,
      "outputs": [
        {
          "output_type": "execute_result",
          "data": {
            "text/plain": [
              "['행복', '사랑']"
            ]
          },
          "metadata": {},
          "execution_count": 101
        }
      ]
    },
    {
      "cell_type": "markdown",
      "metadata": {
        "id": "TO3l-lN_yMqM"
      },
      "source": [
        "### 풀이"
      ]
    },
    {
      "cell_type": "code",
      "metadata": {
        "id": "lPFvMHhVuGZ0"
      },
      "source": [
        "# 갯 수\n",
        "# len(listbox)"
      ],
      "execution_count": null,
      "outputs": []
    },
    {
      "cell_type": "code",
      "metadata": {
        "id": "xeDlrQnHuZu8"
      },
      "source": [
        "# 첫번째 값\n",
        "# listbox[0]"
      ],
      "execution_count": null,
      "outputs": []
    },
    {
      "cell_type": "code",
      "metadata": {
        "id": "X9ekhyU3vIng"
      },
      "source": [
        "# 마지막 값\n",
        "# listbox[-1]"
      ],
      "execution_count": null,
      "outputs": []
    },
    {
      "cell_type": "code",
      "metadata": {
        "id": "E77pYhgsuV4C"
      },
      "source": [
        "# 처음부터 세번째 값까지\n",
        "# listbox[:3]"
      ],
      "execution_count": null,
      "outputs": []
    },
    {
      "cell_type": "code",
      "metadata": {
        "id": "Lnr-3gUhuKhB"
      },
      "source": [
        "# 마지막 앞 단어\n",
        "# listbox[7:8]\n",
        "# listbox[7:-1]\n",
        "# listbox[-2:-1]"
      ],
      "execution_count": null,
      "outputs": []
    },
    {
      "cell_type": "code",
      "metadata": {
        "id": "C_P8l56RvQuB"
      },
      "source": [
        "# 행복과 사랑만 출력\n",
        "# listbox[1:3]"
      ],
      "execution_count": null,
      "outputs": []
    },
    {
      "cell_type": "markdown",
      "metadata": {
        "id": "bXgmN4vtiO03"
      },
      "source": [
        "# 자주 활용되는 파이썬 예제"
      ]
    },
    {
      "cell_type": "markdown",
      "metadata": {
        "id": "EXgwKIeQ9LSc"
      },
      "source": [
        "## 반복문"
      ]
    },
    {
      "cell_type": "code",
      "metadata": {
        "id": "xSa4BJrlC5gl",
        "colab": {
          "base_uri": "https://localhost:8080/"
        },
        "outputId": "12a79a87-cc46-4e41-f434-e0c9373561b0"
      },
      "source": [
        "# 0부터 4까지 반복 출력\n",
        "for i in range(0, 5):\n",
        "  print(i)"
      ],
      "execution_count": null,
      "outputs": [
        {
          "output_type": "stream",
          "name": "stdout",
          "text": [
            "0\n",
            "1\n",
            "2\n",
            "3\n",
            "4\n"
          ]
        }
      ]
    },
    {
      "cell_type": "code",
      "metadata": {
        "id": "AYO-Jaunw92V",
        "colab": {
          "base_uri": "https://localhost:8080/"
        },
        "outputId": "e25a8026-3e0f-4e58-cf0d-ac29e74e9258"
      },
      "source": [
        "# 5부터 9까지 반복 출력\n",
        "for i in range(5, 10):\n",
        "  print(i)"
      ],
      "execution_count": null,
      "outputs": [
        {
          "output_type": "stream",
          "name": "stdout",
          "text": [
            "5\n",
            "6\n",
            "7\n",
            "8\n",
            "9\n"
          ]
        }
      ]
    },
    {
      "cell_type": "code",
      "metadata": {
        "id": "xOe8qt-G5uVv",
        "colab": {
          "base_uri": "https://localhost:8080/"
        },
        "outputId": "ba592d23-7b40-4b6d-de46-1871b1e42ec0"
      },
      "source": [
        "# 리스트에 있는 값, 반복문을 통해 출력\n",
        "listbox = [2,4,6,8,10]\n",
        "for i in range(len(listbox)):\n",
        "  print(listbox[i])"
      ],
      "execution_count": null,
      "outputs": [
        {
          "output_type": "stream",
          "name": "stdout",
          "text": [
            "2\n",
            "4\n",
            "6\n",
            "8\n",
            "10\n"
          ]
        }
      ]
    },
    {
      "cell_type": "code",
      "metadata": {
        "id": "-e3ldxTl9fC2",
        "colab": {
          "base_uri": "https://localhost:8080/"
        },
        "outputId": "546cb1df-85b9-472d-ca64-faa0f101a157"
      },
      "source": [
        "# 리스트에 있는 값 반복문을 통해 +1 한 값, 출력\n",
        "listbox = [2,4,6,8,10]\n",
        "for listbox in listbox:\n",
        "  print(listbox+1)"
      ],
      "execution_count": null,
      "outputs": [
        {
          "output_type": "stream",
          "name": "stdout",
          "text": [
            "3\n",
            "5\n",
            "7\n",
            "9\n",
            "11\n"
          ]
        }
      ]
    },
    {
      "cell_type": "code",
      "metadata": {
        "id": "8FfABDZt9QL2",
        "colab": {
          "base_uri": "https://localhost:8080/"
        },
        "outputId": "1cc57df9-e001-4376-cbf7-653896e44b7d"
      },
      "source": [
        "# 리스트에 있는 문자열 출력\n",
        "listbox = ['네모','세모','동그라미']\n",
        "for listbox in listbox:\n",
        "  print(listbox)"
      ],
      "execution_count": null,
      "outputs": [
        {
          "output_type": "stream",
          "name": "stdout",
          "text": [
            "네모\n",
            "세모\n",
            "동그라미\n"
          ]
        }
      ]
    },
    {
      "cell_type": "code",
      "metadata": {
        "id": "HbAA3JX11HBu",
        "colab": {
          "base_uri": "https://localhost:8080/"
        },
        "outputId": "c448f487-0cb5-4005-dee2-605584a7174c"
      },
      "source": [
        "# 리스트에 있는 문자열과 인덱스값 출력\n",
        "listbox = ['네모','세모','동그라미', '별']\n",
        "for i in range(len(listbox)):\n",
        "  print(listbox[i], i)"
      ],
      "execution_count": null,
      "outputs": [
        {
          "output_type": "stream",
          "name": "stdout",
          "text": [
            "네모 0\n",
            "세모 1\n",
            "동그라미 2\n",
            "별 3\n"
          ]
        }
      ]
    },
    {
      "cell_type": "code",
      "metadata": {
        "id": "8dkdcNRI2tUu",
        "colab": {
          "base_uri": "https://localhost:8080/"
        },
        "outputId": "dd239e26-0a60-4f30-cf06-221c52c8f4a4"
      },
      "source": [
        "# Tip (print(f스트링))\n",
        "print(f\"하이 {listbox}\")"
      ],
      "execution_count": null,
      "outputs": [
        {
          "output_type": "stream",
          "name": "stdout",
          "text": [
            "하이 ['감사', '행복', '사랑', '습관', '긍정', '변화', '성장', '공감', '희망']\n"
          ]
        }
      ]
    },
    {
      "cell_type": "markdown",
      "metadata": {
        "id": "bcxCI9tCvzAU"
      },
      "source": [
        "### Quiz"
      ]
    },
    {
      "cell_type": "code",
      "metadata": {
        "id": "FnDj6uJ7ixCz",
        "colab": {
          "base_uri": "https://localhost:8080/"
        },
        "outputId": "b986d589-81d3-4932-d607-608995447db7"
      },
      "source": [
        "# 리스트에 있는 name, age, phone 컬럼명을 반복문을 통해 출력하시오\n",
        "cols = ['name', 'age', 'phone']\n",
        "for cols in cols:\n",
        "  print(cols)"
      ],
      "execution_count": null,
      "outputs": [
        {
          "output_type": "stream",
          "name": "stdout",
          "text": [
            "name\n",
            "age\n",
            "phone\n"
          ]
        }
      ]
    },
    {
      "cell_type": "markdown",
      "metadata": {
        "id": "j7bxnMRkCvee"
      },
      "source": [
        "## 함수"
      ]
    },
    {
      "cell_type": "markdown",
      "metadata": {
        "id": "xwknzPFZqLC9"
      },
      "source": [
        "### 기본함수"
      ]
    },
    {
      "cell_type": "code",
      "metadata": {
        "id": "v-5HTz-UoCrC"
      },
      "source": [
        "# 함수 정의\n",
        "def hello():\n",
        "  print(\"안녕하세요!\")"
      ],
      "execution_count": null,
      "outputs": []
    },
    {
      "cell_type": "code",
      "metadata": {
        "id": "XLcJacqLoOKV",
        "colab": {
          "base_uri": "https://localhost:8080/"
        },
        "outputId": "3ce571e8-b422-432e-9200-b508ca0b9007"
      },
      "source": [
        "# 함수 호출\n",
        "hello()"
      ],
      "execution_count": null,
      "outputs": [
        {
          "output_type": "stream",
          "name": "stdout",
          "text": [
            "안녕하세요!\n"
          ]
        }
      ]
    },
    {
      "cell_type": "markdown",
      "metadata": {
        "id": "m8UUcfokqNDe"
      },
      "source": [
        "### 함수(파라미터)"
      ]
    },
    {
      "cell_type": "code",
      "metadata": {
        "id": "T5ZMWdSLW0RD"
      },
      "source": [
        "# 함수 정의 (파라미터)\n",
        "def add(x, y):\n",
        "  print(x+y)"
      ],
      "execution_count": null,
      "outputs": []
    },
    {
      "cell_type": "code",
      "metadata": {
        "id": "4bNKvl97Wx_N",
        "colab": {
          "base_uri": "https://localhost:8080/"
        },
        "outputId": "4f3c45ec-b109-4299-8e4e-cfb3f3e99295"
      },
      "source": [
        "# 함수 호출\n",
        "add(5,6)"
      ],
      "execution_count": null,
      "outputs": [
        {
          "output_type": "stream",
          "name": "stdout",
          "text": [
            "11\n"
          ]
        }
      ]
    },
    {
      "cell_type": "markdown",
      "metadata": {
        "id": "EmP4p9izqREt"
      },
      "source": [
        "### 함수(리턴 값)"
      ]
    },
    {
      "cell_type": "code",
      "metadata": {
        "id": "QbUnPQhtpYBN"
      },
      "source": [
        "# 함수 정의 (리턴 값)\n",
        "def add(x,y):\n",
        "  return x+y"
      ],
      "execution_count": null,
      "outputs": []
    },
    {
      "cell_type": "code",
      "metadata": {
        "id": "WRli89l4pYK2",
        "colab": {
          "base_uri": "https://localhost:8080/"
        },
        "outputId": "64174ce7-7e01-44d8-e15b-348ba9d6ef18"
      },
      "source": [
        "# 함수 호출\n",
        "add(3,4)"
      ],
      "execution_count": null,
      "outputs": [
        {
          "output_type": "execute_result",
          "data": {
            "text/plain": [
              "7"
            ]
          },
          "metadata": {},
          "execution_count": 120
        }
      ]
    },
    {
      "cell_type": "code",
      "metadata": {
        "id": "Mvx-fayoplXp",
        "colab": {
          "base_uri": "https://localhost:8080/"
        },
        "outputId": "b3ef59ff-391d-4f79-fce5-205b3880bd6b"
      },
      "source": [
        "# 리턴 값 받기\n",
        "num = add(3,5)\n",
        "num"
      ],
      "execution_count": null,
      "outputs": [
        {
          "output_type": "execute_result",
          "data": {
            "text/plain": [
              "8"
            ]
          },
          "metadata": {},
          "execution_count": 121
        }
      ]
    },
    {
      "cell_type": "code",
      "metadata": {
        "id": "AcTLatFGwXV9",
        "colab": {
          "base_uri": "https://localhost:8080/"
        },
        "outputId": "f84dc71a-cde8-4fc3-d920-04e151adc8c5"
      },
      "source": [
        "# 리턴값이 2개 (최소, 최대값을 구하는 함수)\n",
        "listbox = [15, 46, 78, 24, 56]\n",
        "def minmax(listbox):\n",
        "  return min(listbox), max(listbox)\n",
        "\n",
        "minmax(listbox)"
      ],
      "execution_count": null,
      "outputs": [
        {
          "output_type": "execute_result",
          "data": {
            "text/plain": [
              "(15, 78)"
            ]
          },
          "metadata": {},
          "execution_count": 123
        }
      ]
    },
    {
      "cell_type": "code",
      "metadata": {
        "id": "s0AfIdrZ5Vkg",
        "colab": {
          "base_uri": "https://localhost:8080/"
        },
        "outputId": "8d53b72d-0673-4364-e9ac-ad630718e0da"
      },
      "source": [
        "# 평균을 구하는 함수\n",
        "listbox = [15, 46, 78, 24, 56]\n",
        "def avgnum(listbox):\n",
        "  return sum(listbox)/len(listbox)\n",
        "avgnum(listbox)"
      ],
      "execution_count": null,
      "outputs": [
        {
          "output_type": "execute_result",
          "data": {
            "text/plain": [
              "43.8"
            ]
          },
          "metadata": {},
          "execution_count": 1
        }
      ]
    },
    {
      "cell_type": "markdown",
      "metadata": {
        "id": "XoOMduOnwAGU"
      },
      "source": [
        "### Quiz"
      ]
    },
    {
      "cell_type": "code",
      "metadata": {
        "id": "jJD-lq6mwDfs"
      },
      "source": [
        "# 주어진 리스트의 최대값 - 최소값을 구하는 함수를 만드시오\n",
        "listbox = [15, 46, 78, 24, 56]\n"
      ],
      "execution_count": null,
      "outputs": []
    },
    {
      "cell_type": "code",
      "metadata": {
        "id": "u33Z_1iyvNfw"
      },
      "source": [
        "def maxmin(listbox):\n",
        "  ret"
      ],
      "execution_count": null,
      "outputs": []
    }
  ]
}