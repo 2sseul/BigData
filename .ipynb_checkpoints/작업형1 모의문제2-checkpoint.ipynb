{
 "cells": [
  {
   "cell_type": "markdown",
   "id": "6b147cc9-8eaf-4ae3-9236-944eb505d8ab",
   "metadata": {},
   "source": [
    "문제4\n",
    "주어진 데이터에서 자료형(type)이 object인 컬럼은 삭제하고, 결측치는 0으로 대체한다.\n",
    "행 단위로 합한 다음 그 값이 3000보다 큰 값의 데이터 수를 구하시오 ('age', 'f1', 'f2', 'f5', 'views'의 각 행별 합)"
   ]
  },
  {
   "cell_type": "code",
   "execution_count": 18,
   "id": "3b3a204e-a37a-4e1b-83c6-e5c6b54a907d",
   "metadata": {},
   "outputs": [
    {
     "name": "stdout",
     "output_type": "stream",
     "text": [
      "73\n",
      "73\n"
     ]
    }
   ],
   "source": [
    "# your code\n",
    "import pandas as pd\n",
    "df = pd.read_csv(\"https://raw.githubusercontent.com/lovedlim/inf/main/p1/members.csv\")\n",
    "\n",
    "cols = df.select_dtypes(include='object').columns\n",
    "df = df.drop(cols, axis=1)\n",
    "df = df.fillna(0)\n",
    "\n",
    "# cols = df.select_dtypes(exclude='object').columns\n",
    "# df = df[cols]\n",
    "\n",
    "df = df.T\n",
    "print(sum(df.sum() > 3000))\n",
    "df = df.sum()\n",
    "print(len(df[df > 3000]))"
   ]
  },
  {
   "cell_type": "markdown",
   "id": "6cc994ca-89b3-4b85-905a-7716f8ca2eb5",
   "metadata": {},
   "source": [
    "문제5\n",
    "데이터에서 IQR을 활용해 views 컬럼의 이상치를 찾고, 이상치 데이터의 수를 구하시오"
   ]
  },
  {
   "cell_type": "code",
   "execution_count": 27,
   "id": "fb43585d-34df-417d-b3cc-cafaa1eb8732",
   "metadata": {},
   "outputs": [
    {
     "name": "stdout",
     "output_type": "stream",
     "text": [
      "4\n"
     ]
    }
   ],
   "source": [
    "# your code\n",
    "import pandas as pd\n",
    "df = pd.read_csv(\"https://raw.githubusercontent.com/lovedlim/inf/main/p1/members.csv\")\n",
    "\n",
    "Q3 = df['views'].quantile(.75)\n",
    "Q1 = df['views'].quantile(.25)\n",
    "\n",
    "IQR = Q3 - Q1\n",
    "\n",
    "cond1 = Q1 - 1.5*IQR\n",
    "cond2 = Q3 + 1.5*IQR\n",
    "\n",
    "print(sum(df['views'] < cond1) + sum(df['views'] > cond2))"
   ]
  },
  {
   "cell_type": "markdown",
   "id": "70733d41-357c-4157-af30-b927fe4391e5",
   "metadata": {},
   "source": [
    "문제6\n",
    "'age' 컬럼의 이상치(소수점 나이와 음수나이, 0포함)를 제거하고\n",
    "제거 전 후의 views 컬럼 표준편차를 더하시오 (최종 결과 값은 소수 둘째자리까지 출력, 셋째자리에서 반올림)"
   ]
  },
  {
   "cell_type": "code",
   "execution_count": 37,
   "id": "bc0bcaba-e04d-4057-9824-b01825231372",
   "metadata": {},
   "outputs": [
    {
     "name": "stdout",
     "output_type": "stream",
     "text": [
      "8420.69\n"
     ]
    }
   ],
   "source": [
    "# your code\n",
    "import pandas as pd\n",
    "df = pd.read_csv(\"https://raw.githubusercontent.com/lovedlim/inf/main/p1/members.csv\")\n",
    "\n",
    "# 제거 전의 views 표준편차\n",
    "std1 = df['views'].std()\n",
    "\n",
    "# 0 보다 작으면(음수)\n",
    "cond1 = df['age'] <= 0\n",
    "# print(df.shape)\n",
    "df = df[~cond1]\n",
    "# rint(df.shape)\n",
    "\n",
    "# 소수점 나이 제거\n",
    "cond2 = df['age'] == round(df['age'], 0)\n",
    "df = df[cond2]\n",
    "\n",
    "# 제거 후의 views 표준편차\n",
    "std2 = df['views'].std()\n",
    "\n",
    "print(round(std1+std2, 2))"
   ]
  },
  {
   "cell_type": "code",
   "execution_count": null,
   "id": "6478c38a-956f-4d1f-81cf-33d7885e93e7",
   "metadata": {},
   "outputs": [],
   "source": []
  }
 ],
 "metadata": {
  "kernelspec": {
   "display_name": "Python 3 (ipykernel)",
   "language": "python",
   "name": "python3"
  },
  "language_info": {
   "codemirror_mode": {
    "name": "ipython",
    "version": 3
   },
   "file_extension": ".py",
   "mimetype": "text/x-python",
   "name": "python",
   "nbconvert_exporter": "python",
   "pygments_lexer": "ipython3",
   "version": "3.8.19"
  }
 },
 "nbformat": 4,
 "nbformat_minor": 5
}
